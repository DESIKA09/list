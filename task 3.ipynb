{
 "cells": [
  {
   "cell_type": "code",
   "execution_count": 14,
   "id": "a402fb40",
   "metadata": {},
   "outputs": [],
   "source": [
    "def count_words(dic):\n",
    "    text=input(\"enter a list of words: \")\n",
    "    dic = dict()\n",
    "    for w in text.split():\n",
    "        if w in dic.keys():\n",
    "            dic[w] = dic[w]+1\n",
    "        else:\n",
    "            dic[w] = 1\n",
    "\n",
    "    return dic"
   ]
  },
  {
   "cell_type": "code",
   "execution_count": 10,
   "id": "043d1a7f",
   "metadata": {},
   "outputs": [
    {
     "name": "stdout",
     "output_type": "stream",
     "text": [
      "enter a list of words: Hi this is desika \n"
     ]
    },
    {
     "data": {
      "text/plain": [
       "{'Hi': 1, 'this': 1, 'is': 1, 'desika': 1}"
      ]
     },
     "execution_count": 10,
     "metadata": {},
     "output_type": "execute_result"
    }
   ],
   "source": [
    "count_words(dic)"
   ]
  },
  {
   "cell_type": "code",
   "execution_count": 15,
   "id": "1ca3f30b",
   "metadata": {},
   "outputs": [
    {
     "name": "stdout",
     "output_type": "stream",
     "text": [
      "enter a list of words: hi hi hello \n"
     ]
    },
    {
     "data": {
      "text/plain": [
       "{'hi': 2, 'hello': 1}"
      ]
     },
     "execution_count": 15,
     "metadata": {},
     "output_type": "execute_result"
    }
   ],
   "source": [
    "count_words(dic)"
   ]
  },
  {
   "cell_type": "code",
   "execution_count": 16,
   "id": "25109a41",
   "metadata": {},
   "outputs": [
    {
     "name": "stdout",
     "output_type": "stream",
     "text": [
      "enter a list of words: how are you? are you ok?\n"
     ]
    },
    {
     "data": {
      "text/plain": [
       "{'how': 1, 'are': 2, 'you?': 1, 'you': 1, 'ok?': 1}"
      ]
     },
     "execution_count": 16,
     "metadata": {},
     "output_type": "execute_result"
    }
   ],
   "source": [
    "count_words(dic)"
   ]
  },
  {
   "cell_type": "code",
   "execution_count": null,
   "id": "fdff025c",
   "metadata": {},
   "outputs": [],
   "source": []
  },
  {
   "cell_type": "code",
   "execution_count": null,
   "id": "4d435eea",
   "metadata": {},
   "outputs": [],
   "source": []
  }
 ],
 "metadata": {
  "kernelspec": {
   "display_name": "Python 3 (ipykernel)",
   "language": "python",
   "name": "python3"
  },
  "language_info": {
   "codemirror_mode": {
    "name": "ipython",
    "version": 3
   },
   "file_extension": ".py",
   "mimetype": "text/x-python",
   "name": "python",
   "nbconvert_exporter": "python",
   "pygments_lexer": "ipython3",
   "version": "3.9.12"
  }
 },
 "nbformat": 4,
 "nbformat_minor": 5
}
