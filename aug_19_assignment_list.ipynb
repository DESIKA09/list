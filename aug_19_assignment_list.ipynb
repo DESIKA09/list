{
 "cells": [
  {
   "cell_type": "code",
   "execution_count": 10,
   "id": "a859bb65",
   "metadata": {},
   "outputs": [
    {
     "name": "stdout",
     "output_type": "stream",
     "text": [
      "Enter number of elements in the list : 5\n",
      "Enter element No-1: \n",
      "1\n",
      "Enter element No-2: \n",
      "1\n",
      "Enter element No-3: \n",
      "2\n",
      "Enter element No-4: \n",
      "3\n",
      "Enter element No-5: \n",
      "4\n",
      "The entered list is: \n",
      " [1, 1, 2, 3, 4]\n"
     ]
    }
   ],
   "source": [
    "listA = []\n",
    "# Input number of elements\n",
    "n = int(input(\"Enter number of elements in the list : \"))\n",
    "# iterating till the range\n",
    "for i in range(0, n):\n",
    "   print(\"Enter element No-{}: \".format(i+1))\n",
    "   elm = int(input())\n",
    "   listA.append(elm) # adding the element\n",
    "print(\"The entered list is: \\n\",listA)"
   ]
  },
  {
   "cell_type": "code",
   "execution_count": 13,
   "id": "80e95115",
   "metadata": {},
   "outputs": [
    {
     "data": {
      "text/plain": [
       "[1, 2, 3, 4]"
      ]
     },
     "execution_count": 13,
     "metadata": {},
     "output_type": "execute_result"
    }
   ],
   "source": [
    "res = [i for n, i in enumerate(listA) if i not in listA[:n]]\n",
    "res"
   ]
  },
  {
   "cell_type": "markdown",
   "id": "8add5d26",
   "metadata": {},
   "source": [
    "alternative method"
   ]
  },
  {
   "cell_type": "code",
   "execution_count": null,
   "id": "3135c2d4",
   "metadata": {},
   "outputs": [],
   "source": [
    "def remove_duplicates(listA):\n",
    "    print(\"listA = \",set(listA))"
   ]
  },
  {
   "cell_type": "code",
   "execution_count": null,
   "id": "716e22b4",
   "metadata": {},
   "outputs": [],
   "source": []
  },
  {
   "cell_type": "code",
   "execution_count": 18,
   "id": "ced5464e",
   "metadata": {},
   "outputs": [],
   "source": [
    "list1=[3,3,5,5,6]"
   ]
  },
  {
   "cell_type": "code",
   "execution_count": 23,
   "id": "6835b885",
   "metadata": {},
   "outputs": [
    {
     "name": "stdout",
     "output_type": "stream",
     "text": [
      "listA =  {3, 5, 6}\n"
     ]
    }
   ],
   "source": [
    "remove_duplicates(list1)"
   ]
  },
  {
   "cell_type": "code",
   "execution_count": null,
   "id": "ee3e67e9",
   "metadata": {},
   "outputs": [],
   "source": []
  }
 ],
 "metadata": {
  "kernelspec": {
   "display_name": "Python 3 (ipykernel)",
   "language": "python",
   "name": "python3"
  },
  "language_info": {
   "codemirror_mode": {
    "name": "ipython",
    "version": 3
   },
   "file_extension": ".py",
   "mimetype": "text/x-python",
   "name": "python",
   "nbconvert_exporter": "python",
   "pygments_lexer": "ipython3",
   "version": "3.9.12"
  }
 },
 "nbformat": 4,
 "nbformat_minor": 5
}
