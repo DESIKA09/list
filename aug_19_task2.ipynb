{
 "cells": [
  {
   "cell_type": "code",
   "execution_count": 15,
   "id": "819d69b1",
   "metadata": {},
   "outputs": [
    {
     "name": "stdout",
     "output_type": "stream",
     "text": [
      "enter a number= 4\n"
     ]
    }
   ],
   "source": [
    "num = int(input(\"enter a number= \"))\n",
    "# If given number is greater than 1\n",
    "def check_prime(num):\n",
    "    \n",
    "    if num > 1:\n",
    "        \n",
    "        for i in range(2, int(num/2)+1):\n",
    "            \n",
    "        \n",
    "            if (num % i) == 0:\n",
    "                \n",
    "                print(num, \"is not a prime number\")\n",
    "                \n",
    "                break\n",
    "                \n",
    "            else:\n",
    "                \n",
    "                print(num, \"is a prime number\")\n",
    "    else:\n",
    "        print(num, \"is not a prime number\")"
   ]
  },
  {
   "cell_type": "code",
   "execution_count": 17,
   "id": "17d7962b",
   "metadata": {},
   "outputs": [
    {
     "name": "stdout",
     "output_type": "stream",
     "text": [
      "4 is not a prime number\n"
     ]
    }
   ],
   "source": [
    "check_prime(4)"
   ]
  },
  {
   "cell_type": "code",
   "execution_count": null,
   "id": "07658149",
   "metadata": {},
   "outputs": [],
   "source": []
  },
  {
   "cell_type": "code",
   "execution_count": null,
   "id": "2e27d3ca",
   "metadata": {},
   "outputs": [],
   "source": []
  }
 ],
 "metadata": {
  "kernelspec": {
   "display_name": "Python 3 (ipykernel)",
   "language": "python",
   "name": "python3"
  },
  "language_info": {
   "codemirror_mode": {
    "name": "ipython",
    "version": 3
   },
   "file_extension": ".py",
   "mimetype": "text/x-python",
   "name": "python",
   "nbconvert_exporter": "python",
   "pygments_lexer": "ipython3",
   "version": "3.9.12"
  }
 },
 "nbformat": 4,
 "nbformat_minor": 5
}
